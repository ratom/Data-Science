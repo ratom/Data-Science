{
 "cells": [
  {
   "cell_type": "code",
   "execution_count": 9,
   "metadata": {},
   "outputs": [],
   "source": [
    "import pandas as pd\n",
    "import numpy as np\n",
    "import matplotlib.pyplot as plt\n",
    "import seaborn as sns\n",
    "import tensorflow as tf\n",
    "from tensorflow.keras import Sequential, Model\n",
    "from tensorflow.keras.layers import Flatten,Dense,Dropout,BatchNormalization,Input\n",
    "from tensorflow.keras.layers import Conv1D,MaxPool1D\n",
    "from sklearn.model_selection import train_test_split\n",
    "from sklearn.preprocessing import StandardScaler\n",
    "from tensorflow.keras.optimizers import Adam\n",
    "from imblearn.over_sampling import ADASYN\n",
    "from sklearn import metrics"
   ]
  },
  {
   "cell_type": "code",
   "execution_count": null,
   "metadata": {},
   "outputs": [],
   "source": []
  },
  {
   "cell_type": "code",
   "execution_count": null,
   "metadata": {},
   "outputs": [],
   "source": []
  },
  {
   "cell_type": "code",
   "execution_count": 2,
   "metadata": {},
   "outputs": [
    {
     "data": {
      "text/html": [
       "<div>\n",
       "<style scoped>\n",
       "    .dataframe tbody tr th:only-of-type {\n",
       "        vertical-align: middle;\n",
       "    }\n",
       "\n",
       "    .dataframe tbody tr th {\n",
       "        vertical-align: top;\n",
       "    }\n",
       "\n",
       "    .dataframe thead th {\n",
       "        text-align: right;\n",
       "    }\n",
       "</style>\n",
       "<table border=\"1\" class=\"dataframe\">\n",
       "  <thead>\n",
       "    <tr style=\"text-align: right;\">\n",
       "      <th></th>\n",
       "      <th>Time</th>\n",
       "      <th>V1</th>\n",
       "      <th>V2</th>\n",
       "      <th>V3</th>\n",
       "      <th>V4</th>\n",
       "      <th>V5</th>\n",
       "      <th>V6</th>\n",
       "      <th>V7</th>\n",
       "      <th>V8</th>\n",
       "      <th>V9</th>\n",
       "      <th>...</th>\n",
       "      <th>V21</th>\n",
       "      <th>V22</th>\n",
       "      <th>V23</th>\n",
       "      <th>V24</th>\n",
       "      <th>V25</th>\n",
       "      <th>V26</th>\n",
       "      <th>V27</th>\n",
       "      <th>V28</th>\n",
       "      <th>Amount</th>\n",
       "      <th>Class</th>\n",
       "    </tr>\n",
       "  </thead>\n",
       "  <tbody>\n",
       "    <tr>\n",
       "      <th>0</th>\n",
       "      <td>0.0</td>\n",
       "      <td>-1.359807</td>\n",
       "      <td>-0.072781</td>\n",
       "      <td>2.536347</td>\n",
       "      <td>1.378155</td>\n",
       "      <td>-0.338321</td>\n",
       "      <td>0.462388</td>\n",
       "      <td>0.239599</td>\n",
       "      <td>0.098698</td>\n",
       "      <td>0.363787</td>\n",
       "      <td>...</td>\n",
       "      <td>-0.018307</td>\n",
       "      <td>0.277838</td>\n",
       "      <td>-0.110474</td>\n",
       "      <td>0.066928</td>\n",
       "      <td>0.128539</td>\n",
       "      <td>-0.189115</td>\n",
       "      <td>0.133558</td>\n",
       "      <td>-0.021053</td>\n",
       "      <td>149.62</td>\n",
       "      <td>0</td>\n",
       "    </tr>\n",
       "    <tr>\n",
       "      <th>1</th>\n",
       "      <td>0.0</td>\n",
       "      <td>1.191857</td>\n",
       "      <td>0.266151</td>\n",
       "      <td>0.166480</td>\n",
       "      <td>0.448154</td>\n",
       "      <td>0.060018</td>\n",
       "      <td>-0.082361</td>\n",
       "      <td>-0.078803</td>\n",
       "      <td>0.085102</td>\n",
       "      <td>-0.255425</td>\n",
       "      <td>...</td>\n",
       "      <td>-0.225775</td>\n",
       "      <td>-0.638672</td>\n",
       "      <td>0.101288</td>\n",
       "      <td>-0.339846</td>\n",
       "      <td>0.167170</td>\n",
       "      <td>0.125895</td>\n",
       "      <td>-0.008983</td>\n",
       "      <td>0.014724</td>\n",
       "      <td>2.69</td>\n",
       "      <td>0</td>\n",
       "    </tr>\n",
       "    <tr>\n",
       "      <th>2</th>\n",
       "      <td>1.0</td>\n",
       "      <td>-1.358354</td>\n",
       "      <td>-1.340163</td>\n",
       "      <td>1.773209</td>\n",
       "      <td>0.379780</td>\n",
       "      <td>-0.503198</td>\n",
       "      <td>1.800499</td>\n",
       "      <td>0.791461</td>\n",
       "      <td>0.247676</td>\n",
       "      <td>-1.514654</td>\n",
       "      <td>...</td>\n",
       "      <td>0.247998</td>\n",
       "      <td>0.771679</td>\n",
       "      <td>0.909412</td>\n",
       "      <td>-0.689281</td>\n",
       "      <td>-0.327642</td>\n",
       "      <td>-0.139097</td>\n",
       "      <td>-0.055353</td>\n",
       "      <td>-0.059752</td>\n",
       "      <td>378.66</td>\n",
       "      <td>0</td>\n",
       "    </tr>\n",
       "    <tr>\n",
       "      <th>3</th>\n",
       "      <td>1.0</td>\n",
       "      <td>-0.966272</td>\n",
       "      <td>-0.185226</td>\n",
       "      <td>1.792993</td>\n",
       "      <td>-0.863291</td>\n",
       "      <td>-0.010309</td>\n",
       "      <td>1.247203</td>\n",
       "      <td>0.237609</td>\n",
       "      <td>0.377436</td>\n",
       "      <td>-1.387024</td>\n",
       "      <td>...</td>\n",
       "      <td>-0.108300</td>\n",
       "      <td>0.005274</td>\n",
       "      <td>-0.190321</td>\n",
       "      <td>-1.175575</td>\n",
       "      <td>0.647376</td>\n",
       "      <td>-0.221929</td>\n",
       "      <td>0.062723</td>\n",
       "      <td>0.061458</td>\n",
       "      <td>123.50</td>\n",
       "      <td>0</td>\n",
       "    </tr>\n",
       "    <tr>\n",
       "      <th>4</th>\n",
       "      <td>2.0</td>\n",
       "      <td>-1.158233</td>\n",
       "      <td>0.877737</td>\n",
       "      <td>1.548718</td>\n",
       "      <td>0.403034</td>\n",
       "      <td>-0.407193</td>\n",
       "      <td>0.095921</td>\n",
       "      <td>0.592941</td>\n",
       "      <td>-0.270533</td>\n",
       "      <td>0.817739</td>\n",
       "      <td>...</td>\n",
       "      <td>-0.009431</td>\n",
       "      <td>0.798278</td>\n",
       "      <td>-0.137458</td>\n",
       "      <td>0.141267</td>\n",
       "      <td>-0.206010</td>\n",
       "      <td>0.502292</td>\n",
       "      <td>0.219422</td>\n",
       "      <td>0.215153</td>\n",
       "      <td>69.99</td>\n",
       "      <td>0</td>\n",
       "    </tr>\n",
       "  </tbody>\n",
       "</table>\n",
       "<p>5 rows × 31 columns</p>\n",
       "</div>"
      ],
      "text/plain": [
       "   Time        V1        V2        V3        V4        V5        V6        V7  \\\n",
       "0   0.0 -1.359807 -0.072781  2.536347  1.378155 -0.338321  0.462388  0.239599   \n",
       "1   0.0  1.191857  0.266151  0.166480  0.448154  0.060018 -0.082361 -0.078803   \n",
       "2   1.0 -1.358354 -1.340163  1.773209  0.379780 -0.503198  1.800499  0.791461   \n",
       "3   1.0 -0.966272 -0.185226  1.792993 -0.863291 -0.010309  1.247203  0.237609   \n",
       "4   2.0 -1.158233  0.877737  1.548718  0.403034 -0.407193  0.095921  0.592941   \n",
       "\n",
       "         V8        V9  ...       V21       V22       V23       V24       V25  \\\n",
       "0  0.098698  0.363787  ... -0.018307  0.277838 -0.110474  0.066928  0.128539   \n",
       "1  0.085102 -0.255425  ... -0.225775 -0.638672  0.101288 -0.339846  0.167170   \n",
       "2  0.247676 -1.514654  ...  0.247998  0.771679  0.909412 -0.689281 -0.327642   \n",
       "3  0.377436 -1.387024  ... -0.108300  0.005274 -0.190321 -1.175575  0.647376   \n",
       "4 -0.270533  0.817739  ... -0.009431  0.798278 -0.137458  0.141267 -0.206010   \n",
       "\n",
       "        V26       V27       V28  Amount  Class  \n",
       "0 -0.189115  0.133558 -0.021053  149.62      0  \n",
       "1  0.125895 -0.008983  0.014724    2.69      0  \n",
       "2 -0.139097 -0.055353 -0.059752  378.66      0  \n",
       "3 -0.221929  0.062723  0.061458  123.50      0  \n",
       "4  0.502292  0.219422  0.215153   69.99      0  \n",
       "\n",
       "[5 rows x 31 columns]"
      ]
     },
     "execution_count": 2,
     "metadata": {},
     "output_type": "execute_result"
    }
   ],
   "source": [
    "data=pd.read_csv(\"creditcard.csv\")\n",
    "\n",
    "data.head()"
   ]
  },
  {
   "cell_type": "code",
   "execution_count": 3,
   "metadata": {},
   "outputs": [
    {
     "data": {
      "text/plain": [
       "<bound method DataFrame.info of             Time         V1         V2        V3        V4        V5  \\\n",
       "0            0.0  -1.359807  -0.072781  2.536347  1.378155 -0.338321   \n",
       "1            0.0   1.191857   0.266151  0.166480  0.448154  0.060018   \n",
       "2            1.0  -1.358354  -1.340163  1.773209  0.379780 -0.503198   \n",
       "3            1.0  -0.966272  -0.185226  1.792993 -0.863291 -0.010309   \n",
       "4            2.0  -1.158233   0.877737  1.548718  0.403034 -0.407193   \n",
       "...          ...        ...        ...       ...       ...       ...   \n",
       "284802  172786.0 -11.881118  10.071785 -9.834783 -2.066656 -5.364473   \n",
       "284803  172787.0  -0.732789  -0.055080  2.035030 -0.738589  0.868229   \n",
       "284804  172788.0   1.919565  -0.301254 -3.249640 -0.557828  2.630515   \n",
       "284805  172788.0  -0.240440   0.530483  0.702510  0.689799 -0.377961   \n",
       "284806  172792.0  -0.533413  -0.189733  0.703337 -0.506271 -0.012546   \n",
       "\n",
       "              V6        V7        V8        V9  ...       V21       V22  \\\n",
       "0       0.462388  0.239599  0.098698  0.363787  ... -0.018307  0.277838   \n",
       "1      -0.082361 -0.078803  0.085102 -0.255425  ... -0.225775 -0.638672   \n",
       "2       1.800499  0.791461  0.247676 -1.514654  ...  0.247998  0.771679   \n",
       "3       1.247203  0.237609  0.377436 -1.387024  ... -0.108300  0.005274   \n",
       "4       0.095921  0.592941 -0.270533  0.817739  ... -0.009431  0.798278   \n",
       "...          ...       ...       ...       ...  ...       ...       ...   \n",
       "284802 -2.606837 -4.918215  7.305334  1.914428  ...  0.213454  0.111864   \n",
       "284803  1.058415  0.024330  0.294869  0.584800  ...  0.214205  0.924384   \n",
       "284804  3.031260 -0.296827  0.708417  0.432454  ...  0.232045  0.578229   \n",
       "284805  0.623708 -0.686180  0.679145  0.392087  ...  0.265245  0.800049   \n",
       "284806 -0.649617  1.577006 -0.414650  0.486180  ...  0.261057  0.643078   \n",
       "\n",
       "             V23       V24       V25       V26       V27       V28  Amount  \\\n",
       "0      -0.110474  0.066928  0.128539 -0.189115  0.133558 -0.021053  149.62   \n",
       "1       0.101288 -0.339846  0.167170  0.125895 -0.008983  0.014724    2.69   \n",
       "2       0.909412 -0.689281 -0.327642 -0.139097 -0.055353 -0.059752  378.66   \n",
       "3      -0.190321 -1.175575  0.647376 -0.221929  0.062723  0.061458  123.50   \n",
       "4      -0.137458  0.141267 -0.206010  0.502292  0.219422  0.215153   69.99   \n",
       "...          ...       ...       ...       ...       ...       ...     ...   \n",
       "284802  1.014480 -0.509348  1.436807  0.250034  0.943651  0.823731    0.77   \n",
       "284803  0.012463 -1.016226 -0.606624 -0.395255  0.068472 -0.053527   24.79   \n",
       "284804 -0.037501  0.640134  0.265745 -0.087371  0.004455 -0.026561   67.88   \n",
       "284805 -0.163298  0.123205 -0.569159  0.546668  0.108821  0.104533   10.00   \n",
       "284806  0.376777  0.008797 -0.473649 -0.818267 -0.002415  0.013649  217.00   \n",
       "\n",
       "        Class  \n",
       "0           0  \n",
       "1           0  \n",
       "2           0  \n",
       "3           0  \n",
       "4           0  \n",
       "...       ...  \n",
       "284802      0  \n",
       "284803      0  \n",
       "284804      0  \n",
       "284805      0  \n",
       "284806      0  \n",
       "\n",
       "[284807 rows x 31 columns]>"
      ]
     },
     "execution_count": 3,
     "metadata": {},
     "output_type": "execute_result"
    }
   ],
   "source": [
    "data.info\n"
   ]
  },
  {
   "cell_type": "code",
   "execution_count": 4,
   "metadata": {},
   "outputs": [
    {
     "data": {
      "text/plain": [
       "Time      0\n",
       "V1        0\n",
       "V2        0\n",
       "V3        0\n",
       "V4        0\n",
       "V5        0\n",
       "V6        0\n",
       "V7        0\n",
       "V8        0\n",
       "V9        0\n",
       "V10       0\n",
       "V11       0\n",
       "V12       0\n",
       "V13       0\n",
       "V14       0\n",
       "V15       0\n",
       "V16       0\n",
       "V17       0\n",
       "V18       0\n",
       "V19       0\n",
       "V20       0\n",
       "V21       0\n",
       "V22       0\n",
       "V23       0\n",
       "V24       0\n",
       "V25       0\n",
       "V26       0\n",
       "V27       0\n",
       "V28       0\n",
       "Amount    0\n",
       "Class     0\n",
       "dtype: int64"
      ]
     },
     "execution_count": 4,
     "metadata": {},
     "output_type": "execute_result"
    }
   ],
   "source": [
    "data.isnull().sum()"
   ]
  },
  {
   "cell_type": "code",
   "execution_count": 17,
   "metadata": {},
   "outputs": [
    {
     "data": {
      "text/plain": [
       "((142157, 31), (492, 31))"
      ]
     },
     "execution_count": 17,
     "metadata": {},
     "output_type": "execute_result"
    }
   ],
   "source": [
    "fraud=data[data['Class']==1]\n",
    "non_fraud=data[data['Class']==0]\n",
    "non_fraud=non_fraud.sample(int(non_fraud.shape[0]/2))\n",
    "non_fraud.shape,fraud.shape"
   ]
  },
  {
   "cell_type": "code",
   "execution_count": 19,
   "metadata": {},
   "outputs": [],
   "source": [
    "X=data.drop('Class', axis=1)\n",
    "y=pd.DataFrame(data['Class'])\n"
   ]
  },
  {
   "cell_type": "code",
   "execution_count": 20,
   "metadata": {},
   "outputs": [
    {
     "data": {
      "text/plain": [
       "((284807, 30),\n",
       " (284807, 1),\n",
       " pandas.core.frame.DataFrame,\n",
       " pandas.core.frame.DataFrame)"
      ]
     },
     "execution_count": 20,
     "metadata": {},
     "output_type": "execute_result"
    }
   ],
   "source": [
    "X.shape,y.shape,type(X),type(y)"
   ]
  },
  {
   "cell_type": "code",
   "execution_count": 21,
   "metadata": {},
   "outputs": [],
   "source": [
    "X_train,X_test,y_train,y_test=train_test_split(X,y,test_size=0.2,random_state=0,stratify=y)#prepared for training and testing data set"
   ]
  },
  {
   "cell_type": "code",
   "execution_count": 22,
   "metadata": {},
   "outputs": [],
   "source": [
    "sm=ADASYN()\n",
    "X_train,y_train=sm.fit_sample(X_train,y_train)"
   ]
  },
  {
   "cell_type": "code",
   "execution_count": 23,
   "metadata": {},
   "outputs": [],
   "source": [
    "data_X=pd.DataFrame(data=X_train, columns=X_train.columns)\n",
    "data_y=pd.DataFrame(data=y_train, columns=['Class'])\n",
    "smote_data=data_X\n",
    "smote_data['Class']=data_y['Class']\n",
    "data=smote_data"
   ]
  },
  {
   "cell_type": "code",
   "execution_count": 24,
   "metadata": {},
   "outputs": [
    {
     "data": {
      "text/html": [
       "<div>\n",
       "<style scoped>\n",
       "    .dataframe tbody tr th:only-of-type {\n",
       "        vertical-align: middle;\n",
       "    }\n",
       "\n",
       "    .dataframe tbody tr th {\n",
       "        vertical-align: top;\n",
       "    }\n",
       "\n",
       "    .dataframe thead th {\n",
       "        text-align: right;\n",
       "    }\n",
       "</style>\n",
       "<table border=\"1\" class=\"dataframe\">\n",
       "  <thead>\n",
       "    <tr style=\"text-align: right;\">\n",
       "      <th></th>\n",
       "      <th>Time</th>\n",
       "      <th>V1</th>\n",
       "      <th>V2</th>\n",
       "      <th>V3</th>\n",
       "      <th>V4</th>\n",
       "      <th>V5</th>\n",
       "      <th>V6</th>\n",
       "      <th>V7</th>\n",
       "      <th>V8</th>\n",
       "      <th>V9</th>\n",
       "      <th>...</th>\n",
       "      <th>V21</th>\n",
       "      <th>V22</th>\n",
       "      <th>V23</th>\n",
       "      <th>V24</th>\n",
       "      <th>V25</th>\n",
       "      <th>V26</th>\n",
       "      <th>V27</th>\n",
       "      <th>V28</th>\n",
       "      <th>Amount</th>\n",
       "      <th>Class</th>\n",
       "    </tr>\n",
       "  </thead>\n",
       "  <tbody>\n",
       "    <tr>\n",
       "      <th>0</th>\n",
       "      <td>38355.000000</td>\n",
       "      <td>1.043949</td>\n",
       "      <td>0.318555</td>\n",
       "      <td>1.045810</td>\n",
       "      <td>2.805989</td>\n",
       "      <td>-0.561113</td>\n",
       "      <td>-0.367956</td>\n",
       "      <td>0.032736</td>\n",
       "      <td>-0.042333</td>\n",
       "      <td>-0.322674</td>\n",
       "      <td>...</td>\n",
       "      <td>-0.240105</td>\n",
       "      <td>-0.680315</td>\n",
       "      <td>0.085328</td>\n",
       "      <td>0.684812</td>\n",
       "      <td>0.318620</td>\n",
       "      <td>-0.204963</td>\n",
       "      <td>0.001662</td>\n",
       "      <td>0.037894</td>\n",
       "      <td>49.670000</td>\n",
       "      <td>0</td>\n",
       "    </tr>\n",
       "    <tr>\n",
       "      <th>1</th>\n",
       "      <td>22555.000000</td>\n",
       "      <td>-1.665159</td>\n",
       "      <td>0.808440</td>\n",
       "      <td>1.805627</td>\n",
       "      <td>1.903416</td>\n",
       "      <td>-0.821627</td>\n",
       "      <td>0.934790</td>\n",
       "      <td>-0.824802</td>\n",
       "      <td>0.975890</td>\n",
       "      <td>1.747469</td>\n",
       "      <td>...</td>\n",
       "      <td>-0.335332</td>\n",
       "      <td>-0.510994</td>\n",
       "      <td>0.035839</td>\n",
       "      <td>0.147565</td>\n",
       "      <td>-0.529358</td>\n",
       "      <td>-0.566950</td>\n",
       "      <td>-0.595998</td>\n",
       "      <td>-0.220086</td>\n",
       "      <td>16.940000</td>\n",
       "      <td>0</td>\n",
       "    </tr>\n",
       "    <tr>\n",
       "      <th>2</th>\n",
       "      <td>2431.000000</td>\n",
       "      <td>-0.324096</td>\n",
       "      <td>0.601836</td>\n",
       "      <td>0.865329</td>\n",
       "      <td>-2.138000</td>\n",
       "      <td>0.294663</td>\n",
       "      <td>-1.251553</td>\n",
       "      <td>1.072114</td>\n",
       "      <td>-0.334896</td>\n",
       "      <td>1.071268</td>\n",
       "      <td>...</td>\n",
       "      <td>0.012220</td>\n",
       "      <td>0.352856</td>\n",
       "      <td>-0.341505</td>\n",
       "      <td>-0.145791</td>\n",
       "      <td>0.094194</td>\n",
       "      <td>-0.804026</td>\n",
       "      <td>0.229428</td>\n",
       "      <td>-0.021623</td>\n",
       "      <td>1.000000</td>\n",
       "      <td>0</td>\n",
       "    </tr>\n",
       "    <tr>\n",
       "      <th>3</th>\n",
       "      <td>86773.000000</td>\n",
       "      <td>-0.258270</td>\n",
       "      <td>1.217501</td>\n",
       "      <td>-0.585348</td>\n",
       "      <td>-0.875347</td>\n",
       "      <td>1.222481</td>\n",
       "      <td>-0.311027</td>\n",
       "      <td>1.073860</td>\n",
       "      <td>-0.161408</td>\n",
       "      <td>0.200665</td>\n",
       "      <td>...</td>\n",
       "      <td>-0.424626</td>\n",
       "      <td>-0.781158</td>\n",
       "      <td>0.019316</td>\n",
       "      <td>0.178614</td>\n",
       "      <td>-0.315616</td>\n",
       "      <td>0.096665</td>\n",
       "      <td>0.269740</td>\n",
       "      <td>-0.020635</td>\n",
       "      <td>10.780000</td>\n",
       "      <td>0</td>\n",
       "    </tr>\n",
       "    <tr>\n",
       "      <th>4</th>\n",
       "      <td>127202.000000</td>\n",
       "      <td>2.142162</td>\n",
       "      <td>-0.494988</td>\n",
       "      <td>-1.936511</td>\n",
       "      <td>-0.818288</td>\n",
       "      <td>-0.025213</td>\n",
       "      <td>-1.027245</td>\n",
       "      <td>-0.151627</td>\n",
       "      <td>-0.305750</td>\n",
       "      <td>-0.869482</td>\n",
       "      <td>...</td>\n",
       "      <td>0.010115</td>\n",
       "      <td>0.021722</td>\n",
       "      <td>0.079463</td>\n",
       "      <td>-0.480899</td>\n",
       "      <td>0.023846</td>\n",
       "      <td>-0.279076</td>\n",
       "      <td>-0.030121</td>\n",
       "      <td>-0.043888</td>\n",
       "      <td>39.960000</td>\n",
       "      <td>0</td>\n",
       "    </tr>\n",
       "    <tr>\n",
       "      <th>...</th>\n",
       "      <td>...</td>\n",
       "      <td>...</td>\n",
       "      <td>...</td>\n",
       "      <td>...</td>\n",
       "      <td>...</td>\n",
       "      <td>...</td>\n",
       "      <td>...</td>\n",
       "      <td>...</td>\n",
       "      <td>...</td>\n",
       "      <td>...</td>\n",
       "      <td>...</td>\n",
       "      <td>...</td>\n",
       "      <td>...</td>\n",
       "      <td>...</td>\n",
       "      <td>...</td>\n",
       "      <td>...</td>\n",
       "      <td>...</td>\n",
       "      <td>...</td>\n",
       "      <td>...</td>\n",
       "      <td>...</td>\n",
       "      <td>...</td>\n",
       "    </tr>\n",
       "    <tr>\n",
       "      <th>455006</th>\n",
       "      <td>149475.747268</td>\n",
       "      <td>-0.109756</td>\n",
       "      <td>1.401914</td>\n",
       "      <td>-4.176816</td>\n",
       "      <td>3.343579</td>\n",
       "      <td>1.859784</td>\n",
       "      <td>-2.100166</td>\n",
       "      <td>-1.096727</td>\n",
       "      <td>0.443252</td>\n",
       "      <td>-1.427073</td>\n",
       "      <td>...</td>\n",
       "      <td>0.216087</td>\n",
       "      <td>-0.159903</td>\n",
       "      <td>0.131413</td>\n",
       "      <td>-0.010107</td>\n",
       "      <td>-0.112895</td>\n",
       "      <td>-0.307001</td>\n",
       "      <td>0.185688</td>\n",
       "      <td>0.032990</td>\n",
       "      <td>1.593434</td>\n",
       "      <td>1</td>\n",
       "    </tr>\n",
       "    <tr>\n",
       "      <th>455007</th>\n",
       "      <td>149234.140056</td>\n",
       "      <td>-1.337020</td>\n",
       "      <td>0.016750</td>\n",
       "      <td>-2.819544</td>\n",
       "      <td>2.688801</td>\n",
       "      <td>4.474410</td>\n",
       "      <td>-3.269781</td>\n",
       "      <td>-0.129441</td>\n",
       "      <td>-0.010562</td>\n",
       "      <td>-0.962336</td>\n",
       "      <td>...</td>\n",
       "      <td>-0.045772</td>\n",
       "      <td>-0.602333</td>\n",
       "      <td>0.070173</td>\n",
       "      <td>-0.591993</td>\n",
       "      <td>0.371575</td>\n",
       "      <td>-0.365223</td>\n",
       "      <td>0.018257</td>\n",
       "      <td>0.148295</td>\n",
       "      <td>0.986715</td>\n",
       "      <td>1</td>\n",
       "    </tr>\n",
       "    <tr>\n",
       "      <th>455008</th>\n",
       "      <td>149013.793901</td>\n",
       "      <td>-1.299085</td>\n",
       "      <td>1.058767</td>\n",
       "      <td>-3.880459</td>\n",
       "      <td>3.049975</td>\n",
       "      <td>3.067882</td>\n",
       "      <td>-2.921495</td>\n",
       "      <td>-0.858933</td>\n",
       "      <td>0.320646</td>\n",
       "      <td>-1.521653</td>\n",
       "      <td>...</td>\n",
       "      <td>0.312626</td>\n",
       "      <td>-0.029945</td>\n",
       "      <td>0.035389</td>\n",
       "      <td>-0.341752</td>\n",
       "      <td>-0.080625</td>\n",
       "      <td>-0.288174</td>\n",
       "      <td>0.218628</td>\n",
       "      <td>0.300949</td>\n",
       "      <td>0.929830</td>\n",
       "      <td>1</td>\n",
       "    </tr>\n",
       "    <tr>\n",
       "      <th>455009</th>\n",
       "      <td>149087.716057</td>\n",
       "      <td>-1.323001</td>\n",
       "      <td>0.698071</td>\n",
       "      <td>-3.512670</td>\n",
       "      <td>2.917090</td>\n",
       "      <td>3.548072</td>\n",
       "      <td>-3.043869</td>\n",
       "      <td>-0.612724</td>\n",
       "      <td>0.209225</td>\n",
       "      <td>-1.325748</td>\n",
       "      <td>...</td>\n",
       "      <td>0.192635</td>\n",
       "      <td>-0.219371</td>\n",
       "      <td>0.047633</td>\n",
       "      <td>-0.427781</td>\n",
       "      <td>0.069729</td>\n",
       "      <td>-0.315712</td>\n",
       "      <td>0.149878</td>\n",
       "      <td>0.249366</td>\n",
       "      <td>0.953173</td>\n",
       "      <td>1</td>\n",
       "    </tr>\n",
       "    <tr>\n",
       "      <th>455010</th>\n",
       "      <td>149191.193454</td>\n",
       "      <td>-0.552979</td>\n",
       "      <td>0.991500</td>\n",
       "      <td>-3.850223</td>\n",
       "      <td>3.572496</td>\n",
       "      <td>3.622398</td>\n",
       "      <td>-2.818081</td>\n",
       "      <td>-0.374192</td>\n",
       "      <td>0.075285</td>\n",
       "      <td>-1.644954</td>\n",
       "      <td>...</td>\n",
       "      <td>0.007082</td>\n",
       "      <td>-0.671205</td>\n",
       "      <td>0.023520</td>\n",
       "      <td>-0.398985</td>\n",
       "      <td>0.377213</td>\n",
       "      <td>-0.232972</td>\n",
       "      <td>0.163422</td>\n",
       "      <td>0.203714</td>\n",
       "      <td>0.679953</td>\n",
       "      <td>1</td>\n",
       "    </tr>\n",
       "  </tbody>\n",
       "</table>\n",
       "<p>455011 rows × 31 columns</p>\n",
       "</div>"
      ],
      "text/plain": [
       "                 Time        V1        V2        V3        V4        V5  \\\n",
       "0        38355.000000  1.043949  0.318555  1.045810  2.805989 -0.561113   \n",
       "1        22555.000000 -1.665159  0.808440  1.805627  1.903416 -0.821627   \n",
       "2         2431.000000 -0.324096  0.601836  0.865329 -2.138000  0.294663   \n",
       "3        86773.000000 -0.258270  1.217501 -0.585348 -0.875347  1.222481   \n",
       "4       127202.000000  2.142162 -0.494988 -1.936511 -0.818288 -0.025213   \n",
       "...               ...       ...       ...       ...       ...       ...   \n",
       "455006  149475.747268 -0.109756  1.401914 -4.176816  3.343579  1.859784   \n",
       "455007  149234.140056 -1.337020  0.016750 -2.819544  2.688801  4.474410   \n",
       "455008  149013.793901 -1.299085  1.058767 -3.880459  3.049975  3.067882   \n",
       "455009  149087.716057 -1.323001  0.698071 -3.512670  2.917090  3.548072   \n",
       "455010  149191.193454 -0.552979  0.991500 -3.850223  3.572496  3.622398   \n",
       "\n",
       "              V6        V7        V8        V9  ...       V21       V22  \\\n",
       "0      -0.367956  0.032736 -0.042333 -0.322674  ... -0.240105 -0.680315   \n",
       "1       0.934790 -0.824802  0.975890  1.747469  ... -0.335332 -0.510994   \n",
       "2      -1.251553  1.072114 -0.334896  1.071268  ...  0.012220  0.352856   \n",
       "3      -0.311027  1.073860 -0.161408  0.200665  ... -0.424626 -0.781158   \n",
       "4      -1.027245 -0.151627 -0.305750 -0.869482  ...  0.010115  0.021722   \n",
       "...          ...       ...       ...       ...  ...       ...       ...   \n",
       "455006 -2.100166 -1.096727  0.443252 -1.427073  ...  0.216087 -0.159903   \n",
       "455007 -3.269781 -0.129441 -0.010562 -0.962336  ... -0.045772 -0.602333   \n",
       "455008 -2.921495 -0.858933  0.320646 -1.521653  ...  0.312626 -0.029945   \n",
       "455009 -3.043869 -0.612724  0.209225 -1.325748  ...  0.192635 -0.219371   \n",
       "455010 -2.818081 -0.374192  0.075285 -1.644954  ...  0.007082 -0.671205   \n",
       "\n",
       "             V23       V24       V25       V26       V27       V28     Amount  \\\n",
       "0       0.085328  0.684812  0.318620 -0.204963  0.001662  0.037894  49.670000   \n",
       "1       0.035839  0.147565 -0.529358 -0.566950 -0.595998 -0.220086  16.940000   \n",
       "2      -0.341505 -0.145791  0.094194 -0.804026  0.229428 -0.021623   1.000000   \n",
       "3       0.019316  0.178614 -0.315616  0.096665  0.269740 -0.020635  10.780000   \n",
       "4       0.079463 -0.480899  0.023846 -0.279076 -0.030121 -0.043888  39.960000   \n",
       "...          ...       ...       ...       ...       ...       ...        ...   \n",
       "455006  0.131413 -0.010107 -0.112895 -0.307001  0.185688  0.032990   1.593434   \n",
       "455007  0.070173 -0.591993  0.371575 -0.365223  0.018257  0.148295   0.986715   \n",
       "455008  0.035389 -0.341752 -0.080625 -0.288174  0.218628  0.300949   0.929830   \n",
       "455009  0.047633 -0.427781  0.069729 -0.315712  0.149878  0.249366   0.953173   \n",
       "455010  0.023520 -0.398985  0.377213 -0.232972  0.163422  0.203714   0.679953   \n",
       "\n",
       "        Class  \n",
       "0           0  \n",
       "1           0  \n",
       "2           0  \n",
       "3           0  \n",
       "4           0  \n",
       "...       ...  \n",
       "455006      1  \n",
       "455007      1  \n",
       "455008      1  \n",
       "455009      1  \n",
       "455010      1  \n",
       "\n",
       "[455011 rows x 31 columns]"
      ]
     },
     "execution_count": 24,
     "metadata": {},
     "output_type": "execute_result"
    }
   ],
   "source": [
    "data"
   ]
  },
  {
   "cell_type": "code",
   "execution_count": 25,
   "metadata": {},
   "outputs": [
    {
     "data": {
      "text/plain": [
       "((227560, 31), (227451, 31))"
      ]
     },
     "execution_count": 25,
     "metadata": {},
     "output_type": "execute_result"
    }
   ],
   "source": [
    "fraud=data[data['Class']==1]\n",
    "non_fraud=data[data['Class']==0]\n",
    "fraud.shape,non_fraud.shape"
   ]
  },
  {
   "cell_type": "code",
   "execution_count": 26,
   "metadata": {},
   "outputs": [],
   "source": [
    "#split into X and y. Features\n",
    "X=data.drop('Class', axis=1) #take all the columns except class\n",
    "y=data['Class']# take columns with class "
   ]
  },
  {
   "cell_type": "code",
   "execution_count": 27,
   "metadata": {},
   "outputs": [],
   "source": [
    "X_train,X_test,y_train,y_test=train_test_split(X,y,test_size=0.2,random_state=0,stratify=y)#prepared for training and testing data set"
   ]
  },
  {
   "cell_type": "code",
   "execution_count": 28,
   "metadata": {},
   "outputs": [
    {
     "data": {
      "text/plain": [
       "((364008, 30), (91003, 30))"
      ]
     },
     "execution_count": 28,
     "metadata": {},
     "output_type": "execute_result"
    }
   ],
   "source": [
    "X_train.shape,X_test.shape #to check the size of training datasets"
   ]
  },
  {
   "cell_type": "code",
   "execution_count": 29,
   "metadata": {},
   "outputs": [],
   "source": [
    "#the scale of X_train data is very differet.\n",
    "#we do the standarise of the data to reduce chance of overfitting\n",
    "scaler=StandardScaler()\n",
    "X_train=scaler.fit_transform(X_train)\n",
    "X_test=scaler.transform(X_test)\n"
   ]
  },
  {
   "cell_type": "code",
   "execution_count": 30,
   "metadata": {},
   "outputs": [
    {
     "name": "stdout",
     "output_type": "stream",
     "text": [
      "hello\n"
     ]
    }
   ],
   "source": [
    "#the result of training set will be numpy array. So chage y to numpy\n",
    "y_train=pd.DataFrame(y_train).to_numpy()\n",
    "y_test=pd.DataFrame(y_test).to_numpy()\n",
    "print(\"hello\")\n",
    "#CNN works on 3D. So we need to reshape the vlaues"
   ]
  },
  {
   "cell_type": "code",
   "execution_count": 31,
   "metadata": {},
   "outputs": [
    {
     "data": {
      "text/plain": [
       "(364008, 30)"
      ]
     },
     "execution_count": 31,
     "metadata": {},
     "output_type": "execute_result"
    }
   ],
   "source": [
    "X_train.shape"
   ]
  },
  {
   "cell_type": "code",
   "execution_count": 32,
   "metadata": {},
   "outputs": [],
   "source": [
    "X_train=X_train.reshape(X_train.shape[0],X_train.shape[1],1)\n",
    "X_test=X_test.reshape(X_test.shape[0],X_test.shape[1],1)"
   ]
  },
  {
   "cell_type": "code",
   "execution_count": 33,
   "metadata": {},
   "outputs": [
    {
     "data": {
      "text/plain": [
       "((364008, 30, 1), (91003, 30, 1))"
      ]
     },
     "execution_count": 33,
     "metadata": {},
     "output_type": "execute_result"
    }
   ],
   "source": [
    "X_train.shape,X_test.shape #the new shape is 3D\n"
   ]
  },
  {
   "cell_type": "code",
   "execution_count": 34,
   "metadata": {},
   "outputs": [
    {
     "data": {
      "text/plain": [
       "(30, 1)"
      ]
     },
     "execution_count": 34,
     "metadata": {},
     "output_type": "execute_result"
    }
   ],
   "source": [
    "#building CNN\n",
    "input_shape=X_train[0].shape\n",
    "input_shape"
   ]
  },
  {
   "cell_type": "code",
   "execution_count": 50,
   "metadata": {},
   "outputs": [],
   "source": [
    "epochs=40\n",
    "model=Sequential()\n",
    "\n",
    "model.add(Conv1D(32,2, activation='relu',input_shape=X_train[0].shape))\n",
    "model.add(BatchNormalization())\n",
    "model.add(Dropout(0.2))\n",
    "\n",
    "model.add(Conv1D(64,2, activation='relu'))\n",
    "model.add(BatchNormalization())\n",
    "model.add(Dropout(0.3))\n",
    "\n",
    "model.add(Conv1D(512,2, activation='relu'))\n",
    "model.add(BatchNormalization())\n",
    "model.add(Dropout(0.4))\n",
    "\n",
    "model.add(Conv1D(128,2, activation='relu'))\n",
    "model.add(BatchNormalization())\n",
    "model.add(Dropout(0.5))\n",
    "\n",
    "model.add(Flatten())\n",
    "model.add(Dense(64,activation='relu'))\n",
    "model.add(Dropout(0.5))\n",
    "\n",
    "model.add(Dense(1,activation='sigmoid'))"
   ]
  },
  {
   "cell_type": "code",
   "execution_count": 51,
   "metadata": {},
   "outputs": [
    {
     "name": "stdout",
     "output_type": "stream",
     "text": [
      "Model: \"sequential_4\"\n",
      "_________________________________________________________________\n",
      "Layer (type)                 Output Shape              Param #   \n",
      "=================================================================\n",
      "conv1d_10 (Conv1D)           (None, 29, 32)            96        \n",
      "_________________________________________________________________\n",
      "batch_normalization_10 (Batc (None, 29, 32)            128       \n",
      "_________________________________________________________________\n",
      "dropout_14 (Dropout)         (None, 29, 32)            0         \n",
      "_________________________________________________________________\n",
      "conv1d_11 (Conv1D)           (None, 28, 64)            4160      \n",
      "_________________________________________________________________\n",
      "batch_normalization_11 (Batc (None, 28, 64)            256       \n",
      "_________________________________________________________________\n",
      "dropout_15 (Dropout)         (None, 28, 64)            0         \n",
      "_________________________________________________________________\n",
      "conv1d_12 (Conv1D)           (None, 27, 512)           66048     \n",
      "_________________________________________________________________\n",
      "batch_normalization_12 (Batc (None, 27, 512)           2048      \n",
      "_________________________________________________________________\n",
      "dropout_16 (Dropout)         (None, 27, 512)           0         \n",
      "_________________________________________________________________\n",
      "conv1d_13 (Conv1D)           (None, 26, 128)           131200    \n",
      "_________________________________________________________________\n",
      "batch_normalization_13 (Batc (None, 26, 128)           512       \n",
      "_________________________________________________________________\n",
      "dropout_17 (Dropout)         (None, 26, 128)           0         \n",
      "_________________________________________________________________\n",
      "flatten_4 (Flatten)          (None, 3328)              0         \n",
      "_________________________________________________________________\n",
      "dense_8 (Dense)              (None, 64)                213056    \n",
      "_________________________________________________________________\n",
      "dropout_18 (Dropout)         (None, 64)                0         \n",
      "_________________________________________________________________\n",
      "dense_9 (Dense)              (None, 1)                 65        \n",
      "=================================================================\n",
      "Total params: 417,569\n",
      "Trainable params: 416,097\n",
      "Non-trainable params: 1,472\n",
      "_________________________________________________________________\n"
     ]
    }
   ],
   "source": [
    "model.summary()"
   ]
  },
  {
   "cell_type": "code",
   "execution_count": 52,
   "metadata": {},
   "outputs": [],
   "source": [
    "model.compile(optimizer=Adam(lr=0.0001),loss='binary_crossentropy', metrics=['accuracy'])"
   ]
  },
  {
   "cell_type": "code",
   "execution_count": null,
   "metadata": {},
   "outputs": [
    {
     "name": "stdout",
     "output_type": "stream",
     "text": [
      "Train on 364008 samples, validate on 91003 samples\n",
      "Epoch 1/40\n",
      "364008/364008 [==============================] - 919s 3ms/sample - loss: 0.0738 - accuracy: 0.9742 - val_loss: 0.0219 - val_accuracy: 0.9937\n",
      "Epoch 2/40\n",
      "364008/364008 [==============================] - 901s 2ms/sample - loss: 0.0336 - accuracy: 0.9886 - val_loss: 0.0146 - val_accuracy: 0.9953\n",
      "Epoch 3/40\n",
      "364008/364008 [==============================] - 1025s 3ms/sample - loss: 0.0235 - accuracy: 0.9921 - val_loss: 0.0080 - val_accuracy: 0.9982\n",
      "Epoch 4/40\n",
      "364008/364008 [==============================] - 952s 3ms/sample - loss: 0.0186 - accuracy: 0.9938 - val_loss: 0.0073 - val_accuracy: 0.9982\n",
      "Epoch 5/40\n",
      "364008/364008 [==============================] - 953s 3ms/sample - loss: 0.0165 - accuracy: 0.9945 - val_loss: 0.0050 - val_accuracy: 0.9990\n",
      "Epoch 6/40\n",
      "364008/364008 [==============================] - 931s 3ms/sample - loss: 0.0140 - accuracy: 0.9952 - val_loss: 0.0057 - val_accuracy: 0.9987\n",
      "Epoch 7/40\n",
      "364008/364008 [==============================] - 1042s 3ms/sample - loss: 0.0132 - accuracy: 0.9955 - val_loss: 0.0063 - val_accuracy: 0.9982\n",
      "Epoch 8/40\n",
      "364008/364008 [==============================] - 934s 3ms/sample - loss: 0.0120 - accuracy: 0.9961 - val_loss: 0.0044 - val_accuracy: 0.9988\n",
      "Epoch 9/40\n",
      "357504/364008 [============================>.] - ETA: 15s - loss: 0.0110 - accuracy: 0.9964"
     ]
    }
   ],
   "source": [
    "history=model.fit(X_train,y_train,epochs=epochs, validation_data=(X_test,y_test),verbose=1)"
   ]
  },
  {
   "cell_type": "code",
   "execution_count": 42,
   "metadata": {},
   "outputs": [
    {
     "data": {
      "text/plain": [
       "{'loss': [0.07843398962523822,\n",
       "  0.04205864595454486,\n",
       "  0.031737988857296895,\n",
       "  0.025259300196426613,\n",
       "  0.022331280845919853,\n",
       "  0.020014285016826987,\n",
       "  0.017944998361706176,\n",
       "  0.016841186606973157,\n",
       "  0.015547756380235157,\n",
       "  0.015181151385688362,\n",
       "  0.014146467325920113,\n",
       "  0.013835335409612437,\n",
       "  0.013332832151307148,\n",
       "  0.01272057599774856,\n",
       "  0.012550488903408395,\n",
       "  0.012048031968697507,\n",
       "  0.011935043729263064,\n",
       "  0.01175615045383403,\n",
       "  0.011203890154464073,\n",
       "  0.011473477172092197],\n",
       " 'accuracy': [0.9727973,\n",
       "  0.98586845,\n",
       "  0.9894343,\n",
       "  0.99153316,\n",
       "  0.99292046,\n",
       "  0.9935716,\n",
       "  0.9942364,\n",
       "  0.9948408,\n",
       "  0.99517596,\n",
       "  0.995393,\n",
       "  0.99568415,\n",
       "  0.9959534,\n",
       "  0.99600834,\n",
       "  0.9960358,\n",
       "  0.99624735,\n",
       "  0.99632424,\n",
       "  0.99649185,\n",
       "  0.9964808,\n",
       "  0.9965248,\n",
       "  0.9966182],\n",
       " 'val_loss': [0.030551769988266433,\n",
       "  0.018463656404011496,\n",
       "  0.012270010091085016,\n",
       "  0.009947242763526203,\n",
       "  0.008784510140908386,\n",
       "  0.007642109914144244,\n",
       "  0.00703230670773551,\n",
       "  0.007338695566537989,\n",
       "  0.0068163059580551855,\n",
       "  0.00544406704135854,\n",
       "  0.005560534847829646,\n",
       "  0.004677598344596897,\n",
       "  0.004908995787350458,\n",
       "  0.004517351855132332,\n",
       "  0.004382878851904062,\n",
       "  0.00458168191992022,\n",
       "  0.004636585086450914,\n",
       "  0.004838907314627754,\n",
       "  0.0040219179796637085,\n",
       "  0.004255634078786766],\n",
       " 'val_accuracy': [0.9911102,\n",
       "  0.99484634,\n",
       "  0.9974836,\n",
       "  0.99813193,\n",
       "  0.9983297,\n",
       "  0.99887913,\n",
       "  0.99875826,\n",
       "  0.9986264,\n",
       "  0.9988572,\n",
       "  0.9993077,\n",
       "  0.99926376,\n",
       "  0.9992967,\n",
       "  0.9992967,\n",
       "  0.9992967,\n",
       "  0.9995605,\n",
       "  0.999022,\n",
       "  0.99926376,\n",
       "  0.99909896,\n",
       "  0.99945056,\n",
       "  0.99938464]}"
      ]
     },
     "execution_count": 42,
     "metadata": {},
     "output_type": "execute_result"
    }
   ],
   "source": [
    "history.history"
   ]
  },
  {
   "cell_type": "code",
   "execution_count": 43,
   "metadata": {},
   "outputs": [
    {
     "data": {
      "image/png": "[encoded data removed]",
      "text/plain": [
       "<Figure size 432x288 with 1 Axes>"
      ]
     },
     "metadata": {
      "needs_background": "light"
     },
     "output_type": "display_data"
    },
    {
     "data": {
      "image/png": "[encoded data removed]",
      "text/plain": [
       "<Figure size 432x288 with 1 Axes>"
      ]
     },
     "metadata": {
      "needs_background": "light"
     },
     "output_type": "display_data"
    }
   ],
   "source": [
    "#plot of accuracy and other mertics\n",
    "plt.plot(history.history['accuracy'])\n",
    "plt.plot(history.history['val_accuracy'])\n",
    "plt.title('model accuracy')\n",
    "plt.xlabel('Epoch')\n",
    "plt.ylabel('Accuracy')\n",
    "plt.legend(['Train', 'val'], loc='upper left')\n",
    "plt.show()\n",
    "\n",
    "#for validation loss plot\n",
    "plt.plot(history.history['loss'])\n",
    "plt.plot(history.history['val_loss'])\n",
    "plt.title('model loss')\n",
    "plt.xlabel('Epoch')\n",
    "plt.ylabel('Accuracy')\n",
    "plt.legend(['Train', 'val'], loc='upper left')\n",
    "plt.show()"
   ]
  },
  {
   "cell_type": "code",
   "execution_count": 44,
   "metadata": {},
   "outputs": [],
   "source": [
    "\n",
    "from sklearn.metrics import roc_curve, auc\n",
    "# Plot an ROC. pred - the predictions, y - the expected output.\n",
    "def plot_roc(pred,y):\n",
    "    fpr, tpr, _ = roc_curve(y, pred)\n",
    "    roc_auc = auc(fpr, tpr)\n",
    "\n",
    "    plt.figure()\n",
    "    plt.plot(fpr, tpr, label='ROC curve (area = %0.2f)' % roc_auc)\n",
    "    plt.plot([0, 1], [0, 1], 'k--')\n",
    "    plt.xlim([0.0, 1.0])\n",
    "    plt.ylim([0.0, 1.05])\n",
    "    plt.xlabel('False Positive Rate')\n",
    "    plt.ylabel('True Positive Rate')\n",
    "    plt.title('Receiver Operating Characteristic (ROC)')\n",
    "    plt.legend(loc=\"lower right\")\n",
    "    plt.show()"
   ]
  },
  {
   "cell_type": "code",
   "execution_count": 45,
   "metadata": {},
   "outputs": [
    {
     "data": {
      "image/png": "[encoded data removed]",
      "text/plain": [
       "<Figure size 432x288 with 1 Axes>"
      ]
     },
     "metadata": {
      "needs_background": "light"
     },
     "output_type": "display_data"
    }
   ],
   "source": [
    "pred = model.predict(X_test)\n",
    "plot_roc(pred,y_test.round())"
   ]
  },
  {
   "cell_type": "code",
   "execution_count": 47,
   "metadata": {},
   "outputs": [
    {
     "name": "stdout",
     "output_type": "stream",
     "text": [
      "Numpy array of predictions\n"
     ]
    },
    {
     "data": {
      "text/plain": [
       "array([[1.    ],\n",
       "       [0.    ],\n",
       "       [0.0035],\n",
       "       [0.0003],\n",
       "       [1.    ]], dtype=float32)"
      ]
     },
     "metadata": {},
     "output_type": "display_data"
    },
    {
     "name": "stdout",
     "output_type": "stream",
     "text": [
      "As percent probability\n",
      "[99.9999]\n",
      "Log loss score: nan\n"
     ]
    },
    {
     "name": "stderr",
     "output_type": "stream",
     "text": [
      "C:\\ProgramData\\Anaconda3\\lib\\site-packages\\sklearn\\metrics\\_classification.py:2295: RuntimeWarning: divide by zero encountered in log\n",
      "  loss = -(transformed_labels * np.log(y_pred)).sum(axis=1)\n",
      "C:\\ProgramData\\Anaconda3\\lib\\site-packages\\sklearn\\metrics\\_classification.py:2295: RuntimeWarning: invalid value encountered in multiply\n",
      "  loss = -(transformed_labels * np.log(y_pred)).sum(axis=1)\n"
     ]
    }
   ],
   "source": [
    "from IPython.display import display\n",
    "\n",
    "# Don't display numpy in scientific notation\n",
    "np.set_printoptions(precision=4)\n",
    "np.set_printoptions(suppress=True)\n",
    "\n",
    "# Generate predictions\n",
    "\n",
    "\n",
    "print(\"Numpy array of predictions\")\n",
    "display(pred[0:5])\n",
    "\n",
    "print(\"As percent probability\")\n",
    "print(pred[0]*100)\n",
    "\n",
    "score = metrics.log_loss(y_test, pred)\n",
    "print(\"Log loss score: {}\".format(score))\n",
    "\n",
    "pred = np.argmax(pred,axis=1) # raw probabilities to chosen class (highest probability)"
   ]
  },
  {
   "cell_type": "code",
   "execution_count": null,
   "metadata": {},
   "outputs": [],
   "source": []
  },
  {
   "cell_type": "code",
   "execution_count": null,
   "metadata": {},
   "outputs": [],
   "source": [
    "\n"
   ]
  },
  {
   "cell_type": "code",
   "execution_count": null,
   "metadata": {},
   "outputs": [],
   "source": [
    "\n"
   ]
  },
  {
   "cell_type": "code",
   "execution_count": 67,
   "metadata": {},
   "outputs": [],
   "source": []
  },
  {
   "cell_type": "code",
   "execution_count": null,
   "metadata": {},
   "outputs": [],
   "source": []
  },
  {
   "cell_type": "code",
   "execution_count": null,
   "metadata": {},
   "outputs": [],
   "source": []
  },
  {
   "cell_type": "code",
   "execution_count": null,
   "metadata": {},
   "outputs": [],
   "source": []
  }
 ],
 "metadata": {
  "kernelspec": {
   "display_name": "Python 3",
   "language": "python",
   "name": "python3"
  },
  "language_info": {
   "codemirror_mode": {
    "name": "ipython",
    "version": 3
   },
   "file_extension": ".py",
   "mimetype": "text/x-python",
   "name": "python",
   "nbconvert_exporter": "python",
   "pygments_lexer": "ipython3",
   "version": "3.7.6"
  }
 },
 "nbformat": 4,
 "nbformat_minor": 4
}
